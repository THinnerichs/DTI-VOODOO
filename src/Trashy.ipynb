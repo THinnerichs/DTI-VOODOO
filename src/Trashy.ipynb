{
 "cells": [
  {
   "cell_type": "code",
   "execution_count": 1,
   "metadata": {},
   "outputs": [
    {
     "name": "stdout",
     "output_type": "stream",
     "text": [
      "The history saving thread hit an unexpected error (DatabaseError('database disk image is malformed')).History will not be written to the database.\n"
     ]
    }
   ],
   "source": [
    "import pickle\n",
    "from rdflib import Graph\n",
    "import torch\n",
    "from torch_geometric.data import Data\n",
    "import gzip\n",
    "from torch.utils.data import Dataset, DataLoader\n",
    "import torch\n",
    "import torch.nn as nn\n",
    "import torch.optim as optim\n",
    "import torch.nn.functional as F\n",
    "from torch.optim import lr_scheduler\n",
    "from torch.utils.data.sampler import SubsetRandomSampler\n",
    "from torchsummary import summary\n",
    "from torch_geometric.nn import GCNConv, BatchNorm,  TopKPooling, global_add_pool, global_max_pool\n",
    "from tqdm import tqdm\n"
   ]
  },
  {
   "cell_type": "code",
   "execution_count": 3,
   "metadata": {},
   "outputs": [],
   "source": [
    "#Load the rdf graph and form it into an edge_index\n",
    "g = Graph()\n",
    "g.parse(\"data/rdf_string.ttl\", format=\"turtle\")\n",
    "seen={}\n",
    "ei=[[],[]]\n",
    "ii=0\n",
    "def get_name(raw):\n",
    "    index=raw.rfind('_')\n",
    "    return raw[index+1:-1]\n",
    "for i,j,k in g:\n",
    "    sbj=get_name(i.n3())\n",
    "    obj=get_name(k.n3())\n",
    "    if sbj not in seen:\n",
    "        seen[sbj]=ii\n",
    "        ii+=1\n",
    "    if obj not in seen:\n",
    "        seen[obj]=ii\n",
    "        ii+=1\n",
    "    ei[0].append((seen[sbj]))\n",
    "    ei[1].append((seen[obj]))"
   ]
  },
  {
   "cell_type": "code",
   "execution_count": null,
   "metadata": {},
   "outputs": [],
   "source": []
  },
  {
   "cell_type": "code",
   "execution_count": 5,
   "metadata": {},
   "outputs": [],
   "source": [
    "#labels\n",
    "import gzip\n",
    "f=gzip.open('/encrypted/e3001/robert/morbid.txt.gz','rt')\n",
    "lines=f.readlines()\n",
    "f.close()\n",
    "phenos={}\n",
    "labels={}\n",
    "i=0\n",
    "for l in lines:\n",
    "    l=l.rstrip().replace('\"','')\n",
    "    p=l.split('\\t')\n",
    "    if len(p[-1])<2:\n",
    "        labels[p[0]]=p[1:-1]\n",
    "    else:\n",
    "        labels[p[0]]=p[1:]\n",
    "    for x in labels[p[0]]:\n",
    "        phenos[x]=1"
   ]
  },
  {
   "cell_type": "code",
   "execution_count": 6,
   "metadata": {},
   "outputs": [
    {
     "name": "stderr",
     "output_type": "stream",
     "text": [
      "100%|██████████| 502616/502616 [00:00<00:00, 759502.15it/s]"
     ]
    },
    {
     "name": "stdout",
     "output_type": "stream",
     "text": [
      "12410\n"
     ]
    },
    {
     "name": "stderr",
     "output_type": "stream",
     "text": [
      "\n"
     ]
    }
   ],
   "source": [
    "def get_codes(dis):\n",
    "    result={}\n",
    "    for p in phenos:\n",
    "        if dis in p:\n",
    "            result[p]=True\n",
    "    return [x for x in result]\n",
    "def intersection(lst1, lst2): \n",
    "    temp = set(lst1) \n",
    "    lst3 = [value for value in lst2 if value in temp]\n",
    "    return lst3 \n",
    "def get_by_disease(dis,upb):\n",
    "    maxi=0\n",
    "    positive=0\n",
    "    negative=0\n",
    "    pos={}\n",
    "    neg={}\n",
    "    for p in tqdm(labels):\n",
    "        if positive>upb:\n",
    "            break\n",
    "        if len(intersection(dis,labels[p]))>0:\n",
    "            positive+=1\n",
    "            pos[p+'_'+p]=True\n",
    "        elif positive>negative:\n",
    "            negative+=1\n",
    "            neg[p+'_'+p]=True\n",
    "    return pos,neg\n",
    "#get all codes of breast cancer\n",
    "codes=get_codes('C50')\n",
    "#get dataset of disease and upperbound on number of positive cases\n",
    "pos,neg=get_by_disease(codes,3000000)\n",
    "print(len(pos))\n"
   ]
  },
  {
   "cell_type": "code",
   "execution_count": 7,
   "metadata": {},
   "outputs": [
    {
     "name": "stdout",
     "output_type": "stream",
     "text": [
      "/encrypted/e3001/awesome_sumyyah/random/chr10_final.pkl\n",
      "\n"
     ]
    },
    {
     "name": "stderr",
     "output_type": "stream",
     "text": [
      "100%|██████████| 488224/488224 [03:03<00:00, 2654.21it/s]\n"
     ]
    },
    {
     "name": "stdout",
     "output_type": "stream",
     "text": [
      "/encrypted/e3001/awesome_sumyyah/random/chr11_final.pkl\n",
      "\n"
     ]
    },
    {
     "name": "stderr",
     "output_type": "stream",
     "text": [
      "100%|██████████| 139991/139991 [00:03<00:00, 39246.60it/s]\n"
     ]
    },
    {
     "name": "stdout",
     "output_type": "stream",
     "text": [
      "/encrypted/e3001/awesome_sumyyah/random/chr12_final.pkl\n",
      "\n"
     ]
    },
    {
     "name": "stderr",
     "output_type": "stream",
     "text": [
      "100%|██████████| 184312/184312 [00:04<00:00, 40377.41it/s]\n",
      "  0%|          | 0/76577 [00:00<?, ?it/s]"
     ]
    },
    {
     "name": "stdout",
     "output_type": "stream",
     "text": [
      "/encrypted/e3001/awesome_sumyyah/random/chr13_final.pkl\n",
      "\n"
     ]
    },
    {
     "name": "stderr",
     "output_type": "stream",
     "text": [
      "100%|██████████| 76577/76577 [00:01<00:00, 41436.85it/s]\n"
     ]
    },
    {
     "name": "stdout",
     "output_type": "stream",
     "text": [
      "/encrypted/e3001/awesome_sumyyah/random/chr14_final.pkl\n",
      "\n"
     ]
    },
    {
     "name": "stderr",
     "output_type": "stream",
     "text": [
      "100%|██████████| 205476/205476 [00:05<00:00, 39270.63it/s]\n"
     ]
    },
    {
     "name": "stdout",
     "output_type": "stream",
     "text": [
      "/encrypted/e3001/awesome_sumyyah/random/chr15_final.pkl\n",
      "\n"
     ]
    },
    {
     "name": "stderr",
     "output_type": "stream",
     "text": [
      "100%|██████████| 223624/223624 [00:05<00:00, 40006.69it/s]\n"
     ]
    },
    {
     "name": "stdout",
     "output_type": "stream",
     "text": [
      "/encrypted/e3001/awesome_sumyyah/random/chr16_final.pkl\n",
      "\n"
     ]
    },
    {
     "name": "stderr",
     "output_type": "stream",
     "text": [
      "100%|██████████| 488331/488331 [00:12<00:00, 37615.41it/s]\n"
     ]
    },
    {
     "name": "stdout",
     "output_type": "stream",
     "text": [
      "/encrypted/e3001/awesome_sumyyah/random/chr17_final.pkl\n",
      "\n"
     ]
    },
    {
     "name": "stderr",
     "output_type": "stream",
     "text": [
      "100%|██████████| 166500/166500 [00:04<00:00, 40125.15it/s]\n",
      "  0%|          | 0/91645 [00:00<?, ?it/s]"
     ]
    },
    {
     "name": "stdout",
     "output_type": "stream",
     "text": [
      "/encrypted/e3001/awesome_sumyyah/random/chr18_final.pkl\n",
      "\n"
     ]
    },
    {
     "name": "stderr",
     "output_type": "stream",
     "text": [
      "100%|██████████| 91645/91645 [00:02<00:00, 40807.63it/s]\n"
     ]
    },
    {
     "name": "stdout",
     "output_type": "stream",
     "text": [
      "/encrypted/e3001/awesome_sumyyah/random/chr19_final.pkl\n",
      "\n"
     ]
    },
    {
     "name": "stderr",
     "output_type": "stream",
     "text": [
      "100%|██████████| 195480/195480 [00:04<00:00, 40431.04it/s]\n"
     ]
    },
    {
     "name": "stdout",
     "output_type": "stream",
     "text": [
      "/encrypted/e3001/awesome_sumyyah/random/chr1_final.pkl\n",
      "\n"
     ]
    },
    {
     "name": "stderr",
     "output_type": "stream",
     "text": [
      "100%|██████████| 435984/435984 [00:11<00:00, 38691.49it/s]\n"
     ]
    },
    {
     "name": "stdout",
     "output_type": "stream",
     "text": [
      "/encrypted/e3001/awesome_sumyyah/random/chr20_final.pkl\n",
      "\n"
     ]
    },
    {
     "name": "stderr",
     "output_type": "stream",
     "text": [
      "100%|██████████| 112349/112349 [00:02<00:00, 40346.93it/s]\n",
      " 18%|█▊        | 4093/23138 [00:00<00:00, 40814.73it/s]"
     ]
    },
    {
     "name": "stdout",
     "output_type": "stream",
     "text": [
      "/encrypted/e3001/awesome_sumyyah/random/chr21_final.pkl\n",
      "\n"
     ]
    },
    {
     "name": "stderr",
     "output_type": "stream",
     "text": [
      "100%|██████████| 23138/23138 [00:00<00:00, 43802.34it/s]\n"
     ]
    },
    {
     "name": "stdout",
     "output_type": "stream",
     "text": [
      "/encrypted/e3001/awesome_sumyyah/random/chr22_final.pkl\n",
      "\n"
     ]
    },
    {
     "name": "stderr",
     "output_type": "stream",
     "text": [
      "100%|██████████| 113087/113087 [00:03<00:00, 36996.15it/s]\n"
     ]
    },
    {
     "name": "stdout",
     "output_type": "stream",
     "text": [
      "/encrypted/e3001/awesome_sumyyah/random/chr2_final.pkl\n",
      "\n"
     ]
    },
    {
     "name": "stderr",
     "output_type": "stream",
     "text": [
      "100%|██████████| 486650/486650 [00:12<00:00, 38964.10it/s]\n"
     ]
    },
    {
     "name": "stdout",
     "output_type": "stream",
     "text": [
      "/encrypted/e3001/awesome_sumyyah/random/chr3_final.pkl\n",
      "\n"
     ]
    },
    {
     "name": "stderr",
     "output_type": "stream",
     "text": [
      "100%|██████████| 487037/487037 [00:12<00:00, 38585.52it/s]\n"
     ]
    },
    {
     "name": "stdout",
     "output_type": "stream",
     "text": [
      "/encrypted/e3001/awesome_sumyyah/random/chr4_final.pkl\n",
      "\n"
     ]
    },
    {
     "name": "stderr",
     "output_type": "stream",
     "text": [
      "100%|██████████| 324031/324031 [00:08<00:00, 40000.34it/s]\n"
     ]
    },
    {
     "name": "stdout",
     "output_type": "stream",
     "text": [
      "/encrypted/e3001/awesome_sumyyah/random/chr5_final.pkl\n",
      "\n"
     ]
    },
    {
     "name": "stderr",
     "output_type": "stream",
     "text": [
      "100%|██████████| 423584/423584 [00:10<00:00, 38629.15it/s]\n"
     ]
    },
    {
     "name": "stdout",
     "output_type": "stream",
     "text": [
      "/encrypted/e3001/awesome_sumyyah/random/chr6_final.pkl\n",
      "\n"
     ]
    },
    {
     "name": "stderr",
     "output_type": "stream",
     "text": [
      "100%|██████████| 371951/371951 [00:09<00:00, 39058.37it/s]\n"
     ]
    },
    {
     "name": "stdout",
     "output_type": "stream",
     "text": [
      "/encrypted/e3001/awesome_sumyyah/random/chr7_final.pkl\n",
      "\n"
     ]
    },
    {
     "name": "stderr",
     "output_type": "stream",
     "text": [
      "100%|██████████| 367235/367235 [00:09<00:00, 39628.24it/s]\n"
     ]
    },
    {
     "name": "stdout",
     "output_type": "stream",
     "text": [
      "/encrypted/e3001/awesome_sumyyah/random/chr8_final.pkl\n",
      "\n"
     ]
    },
    {
     "name": "stderr",
     "output_type": "stream",
     "text": [
      "100%|██████████| 486134/486134 [00:12<00:00, 39166.91it/s]\n"
     ]
    },
    {
     "name": "stdout",
     "output_type": "stream",
     "text": [
      "/encrypted/e3001/awesome_sumyyah/random/chr9_final.pkl\n",
      "\n"
     ]
    },
    {
     "name": "stderr",
     "output_type": "stream",
     "text": [
      "100%|██████████| 352912/352912 [00:08<00:00, 39702.65it/s]\n",
      "0it [00:00, ?it/s]\n"
     ]
    },
    {
     "name": "stdout",
     "output_type": "stream",
     "text": [
      "/encrypted/e3001/awesome_sumyyah/random/chrY_final.pkl\n",
      "\n",
      "/encrypted/e3001/awesome_sumyyah/random/chrX_final.pkl\n",
      "\n"
     ]
    },
    {
     "name": "stderr",
     "output_type": "stream",
     "text": [
      "100%|██████████| 484705/484705 [00:13<00:00, 35929.26it/s]\n"
     ]
    }
   ],
   "source": [
    "#get data but only of the patients in pos and neg\n",
    "#dictionary to convert from NCBI gene to ENS\n",
    "f=open('toENS.pkl','rb')\n",
    "dic=pickle.load(f)\n",
    "f.close()\n",
    "#Load individuals' data\n",
    "f=open('files.txt')\n",
    "lines=f.readlines()\n",
    "f.close()\n",
    "notfound={}\n",
    "feat_vecs={}\n",
    "dataset=[]\n",
    "for l in lines:\n",
    "    print(l)\n",
    "    f=open(l.rstrip(),'rb')\n",
    "    pe=pickle.load(f)\n",
    "    for p in tqdm(pe):\n",
    "        if p not in neg and p not in pos:\n",
    "            continue\n",
    "        if p not in feat_vecs:\n",
    "            feat_vecs[p]=[[0] for i in range(len(seen))]\n",
    "        val={}\n",
    "        val[p]=[1 for i in range(len(seen))]\n",
    "        for g in pe[p]:\n",
    "            if g[-1][0] not in dic:\n",
    "                notfound[g[-1][0]]=True\n",
    "            else:\n",
    "                prots=dic[g[-1][0]]\n",
    "                for prot in prots:\n",
    "                    if prot=='-':\n",
    "                        continue\n",
    "                    index=prot.find('.')\n",
    "                    if index>-1:\n",
    "                        prot=prot[:index]\n",
    "                    if prot in seen and float(g[8])<val[p][seen[prot]]:\n",
    "                        feat_vecs[p][seen[prot]][0]=float(g[9])#float(g[8])\n",
    "                        val[p][seen[prot]]=float(g[8])\n",
    "                        #feat_vecs[p][seen[prot]][1]=float(g[9])\n",
    "                        #feat_vecs[p][seen[prot]][2]=float(g[10])"
   ]
  },
  {
   "cell_type": "code",
   "execution_count": 8,
   "metadata": {},
   "outputs": [
    {
     "name": "stdout",
     "output_type": "stream",
     "text": [
      "1 21408 2375\n"
     ]
    }
   ],
   "source": [
    "dataset=[]\n",
    "test_set=[]\n",
    "test_set_labels=[]\n",
    "#create dataset of batches\n",
    "tpos=sum([1 for t in feat_vecs if t in pos])\n",
    "tneg=len(feat_vecs)-tpos\n",
    "train_pos=int(tpos*.90)\n",
    "train_neg=int(tneg*.90)\n",
    "i=0\n",
    "batch=[]\n",
    "batch_l=[]\n",
    "currp=0\n",
    "currn=0\n",
    "test_p=False\n",
    "test_n=False\n",
    "for t in feat_vecs:\n",
    "    label=0.0\n",
    "    if t in pos:\n",
    "        label=1.0\n",
    "    if currp==train_pos and label>0:\n",
    "        test_p=True\n",
    "    if currn==train_neg and label<1:\n",
    "        test_n=True\n",
    "    if i%32==0 and i!=0:\n",
    "        if len(batch)>1:\n",
    "            dataset.append([batch,batch_l])\n",
    "            batch=[]\n",
    "            batch_l=[]\n",
    "    if test_p and label>0:\n",
    "        test_set.append(feat_vecs[t])\n",
    "        test_set_labels.append(label)\n",
    "    elif test_n and label<1:\n",
    "        test_set.append(feat_vecs[t])\n",
    "        test_set_labels.append(label)\n",
    "    else:\n",
    "        batch.append(feat_vecs[t])\n",
    "        batch_l.append(label)\n",
    "        if label>0:\n",
    "            currp+=1\n",
    "        else:\n",
    "            currn+=1\n",
    "    i+=1\n",
    "dataset.append([batch,batch_l])\n",
    "print(len(batch),len(dataset)*32,len(test_set))"
   ]
  },
  {
   "cell_type": "code",
   "execution_count": null,
   "metadata": {},
   "outputs": [],
   "source": [
    "from torch_geometric.data import Data\n",
    "class MyNet(nn.Module):\n",
    "    def __init__(self):\n",
    "        super(MyNet, self).__init__()\n",
    "        self.conv1 = GCNConv(1,5)\n",
    "        self.BN1 = BatchNorm(5)\n",
    "        self.pool1=  TopKPooling(5,0.8)\n",
    "        self.conv2 = GCNConv(5,8)\n",
    "        self.BN2 = BatchNorm(8)\n",
    "        self.pool2=  TopKPooling(8, 0.0001)\n",
    "        self.fc1 = nn.Linear(16,1)\n",
    "\n",
    "\n",
    "    def forward(self, data):\n",
    "        x, edge_index = data.x, data.edge_index\n",
    "        x=self.conv1(x, edge_index)\n",
    "        x = F.relu((x),inplace=True)\n",
    "        x = F.relu((self.conv2(x, edge_index)),inplace=True)\n",
    "        x, edge_index, _, _, _, _ = self.pool2(x, edge_index)\n",
    "        x = x.view(1,-1)\n",
    "        x = self.fc1(x)\n",
    "        x=torch.sigmoid(x)\n",
    "        return x"
   ]
  },
  {
   "cell_type": "code",
   "execution_count": null,
   "metadata": {},
   "outputs": [],
   "source": [
    "def nonzero(x):\n",
    "    count=0\n",
    "    for i in x:\n",
    "        if i>0:\n",
    "            count+=1\n",
    "    return count\n",
    "#torch.cuda.empty_cache()\n",
    "import matplotlib.pyplot as plt\n",
    "from tqdm import tqdm\n",
    "loss = nn.BCELoss()\n",
    "device='cuda'\n",
    "#loss = nn.CrossEntropyLoss()\n",
    "loss = loss.to(device)\n",
    "\n",
    "epochs=1\n",
    "losat=[]\n",
    "trial = MyNet()\n",
    "tria=trial.to(device)\n",
    "optimizer = optim.SGD(trial.parameters(), lr = 0.001)\n",
    "trial.train()\n",
    "trues=[]\n",
    "for e in range(epochs):\n",
    "    #optimizer.zero_grad()\n",
    "    local=[]\n",
    "    predictions=[]\n",
    "    print('epoch:',e)\n",
    "    i=0\n",
    "    for b in tqdm(dataset):\n",
    "        if len(b[0])<1:\n",
    "            break\n",
    "        loss_train=0\n",
    "        for i in range(len(b[0])):\n",
    "            #print(i,sum([x[0] for x in b[0][i]]),(b[1][i]))\n",
    "            data=Data(x=torch.tensor(b[0][i],dtype=torch.float),edge_index=torch.tensor(ei, dtype=torch.long),y=torch.tensor([[b[1][i]]]))\n",
    "            data=data.to(device)\n",
    "            preds = trial(data)\n",
    "            #print(preds,nonzero(data.x),data.y)\n",
    "            predictions.append(preds.detach())\n",
    "            loss_train += loss(preds,torch.tensor(data.y,dtype=torch.float).to(device))\n",
    "            local.append(loss_train.detach())\n",
    "        #print(preds)\n",
    "        #print(torch.cuda.memory_allocated())\n",
    "        optimizer.zero_grad()\n",
    "        loss/=len(b[0])        \n",
    "        loss_train.backward()\n",
    "        optimizer.step()\n",
    "        #print(torch.cuda.memory_allocated())\n",
    "        #print(trial(data))\n",
    "    preds=0\n",
    "    data=0\n",
    "    plt.plot(local, label = 'training loss',alpha=0.4)\n",
    "plt.xlabel('iterations')\n",
    "plt.ylabel('loss')\n",
    "plt.show()"
   ]
  },
  {
   "cell_type": "code",
   "execution_count": null,
   "metadata": {},
   "outputs": [],
   "source": []
  }
 ],
 "metadata": {
  "kernelspec": {
   "display_name": "Python 3",
   "language": "python",
   "name": "python3"
  },
  "language_info": {
   "codemirror_mode": {
    "name": "ipython",
    "version": 3
   },
   "file_extension": ".py",
   "mimetype": "text/x-python",
   "name": "python",
   "nbconvert_exporter": "python",
   "pygments_lexer": "ipython3",
   "version": "3.7.4"
  }
 },
 "nbformat": 4,
 "nbformat_minor": 2
}
